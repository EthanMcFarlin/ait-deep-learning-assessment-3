{
  "nbformat": 4,
  "nbformat_minor": 0,
  "metadata": {
    "anaconda-cloud": {},
    "kernelspec": {
      "display_name": "Python 3",
      "language": "python",
      "name": "python3"
    },
    "language_info": {
      "codemirror_mode": {
        "name": "ipython",
        "version": 3
      },
      "file_extension": ".py",
      "mimetype": "text/x-python",
      "name": "python",
      "nbconvert_exporter": "python",
      "pygments_lexer": "ipython3",
      "version": "3.6.6"
    },
    "colab": {
      "provenance": []
    },
    "accelerator": "GPU"
  },
  "cells": [
    {
      "cell_type": "markdown",
      "metadata": {
        "id": "cW-EyI5Lxpqi"
      },
      "source": [
        "# Copyright\n",
        "\n",
        "<PRE>\n",
        "Copyright (c) 2023 Bálint Gyires-Tóth - All Rights Reserved\n",
        "You may use and modify this code for research and development purpuses.\n",
        "Using this code for educational purposes (self-paced or instructor led) without the permission of the author is prohibited.\n",
        "</PRE>"
      ]
    },
    {
      "cell_type": "markdown",
      "source": [
        "# Example of data exploration, modeling, regulartion and prediction\n",
        "Our exercise today involves loading a standard dataset using TensorFlow Keras API, exploring the data, building a simple neural network, and evaluating the effects of basic methods (activation functions, regularization, weight initialization, etc.). We then perform predictions on the test set and inspect the results. "
      ],
      "metadata": {
        "id": "3EX4cCa4WKJu"
      }
    },
    {
      "cell_type": "markdown",
      "source": [
        "# 1. Data\n",
        "The dataset we will use is the well-known CIFAR10 (Canadian Institute For Advanced Research). Explore the details on the Keras website first: https://keras.io/api/datasets/cifar10/\n",
        "\n",
        "After you explored the basic features of the data, let's load it into the memory and explore the shapes:"
      ],
      "metadata": {
        "id": "yY9fztIeWIKt"
      }
    },
    {
      "cell_type": "code",
      "source": [
        "from tensorflow.keras.datasets import cifar10\n",
        "from tensorflow.keras.utils import to_categorical\n",
        "import numpy as np"
      ],
      "metadata": {
        "id": "giRZKTjzX_7l"
      },
      "execution_count": 1,
      "outputs": []
    },
    {
      "cell_type": "code",
      "source": [
        "(X_train, Y_train), (X_test, Y_test) = cifar10.load_data()"
      ],
      "metadata": {
        "id": "bez7q0eiWQCK",
        "colab": {
          "base_uri": "https://localhost:8080/"
        },
        "outputId": "89c004e8-2cc8-4fef-a74c-6a29fcb83266"
      },
      "execution_count": 2,
      "outputs": [
        {
          "output_type": "stream",
          "name": "stdout",
          "text": [
            "Downloading data from https://www.cs.toronto.edu/~kriz/cifar-10-python.tar.gz\n",
            "170498071/170498071 [==============================] - 5s 0us/step\n"
          ]
        }
      ]
    },
    {
      "cell_type": "code",
      "source": [
        "print(X_train.shape)\n",
        "print(X_test.shape)\n",
        "print(Y_train.shape)\n",
        "print(Y_test.shape)"
      ],
      "metadata": {
        "id": "2tJoRq5wXywi",
        "colab": {
          "base_uri": "https://localhost:8080/"
        },
        "outputId": "fdfc67f4-f5b8-4a50-c1b1-541bd031ae9b"
      },
      "execution_count": 3,
      "outputs": [
        {
          "output_type": "stream",
          "name": "stdout",
          "text": [
            "(50000, 32, 32, 3)\n",
            "(10000, 32, 32, 3)\n",
            "(50000, 1)\n",
            "(10000, 1)\n"
          ]
        }
      ]
    },
    {
      "cell_type": "markdown",
      "source": [
        "## 1.1. Exercise \n",
        "Display the first ten images of the training data. Hints:\n",
        "* Axis 0 refers to the separate images, e.g. X_train[0]\n",
        "* You can use the [Matplotlib Pyplot imshow function](https://matplotlib.org/stable/api/_as_gen/matplotlib.pyplot.imshow.html) for displaying the image. Just don't forget to import Plotly first!\n",
        "* A corresponding example, but you have to modify the code for your purpose: https://stackoverflow.com/questions/46615554/how-to-display-multiple-images-in-one-figure-correctly"
      ],
      "metadata": {
        "id": "zTCSGFyDlNvf"
      }
    },
    {
      "cell_type": "code",
      "source": [
        "import matplotlib.pyplot as plt\n",
        "\n",
        "w = 10\n",
        "h = 10\n",
        "\n",
        "fig = plt.figure(figsize=(12, 5))\n",
        "cols = 5\n",
        "rows = 2\n",
        "\n",
        "for i in range(1, cols*rows +1):\n",
        "    img = X_train[i]\n",
        "    fig.add_subplot(rows, cols, i)\n",
        "    plt.imshow(img)\n",
        "    \n",
        "plt.show()"
      ],
      "metadata": {
        "id": "hIQhHTppmBdO",
        "colab": {
          "base_uri": "https://localhost:8080/",
          "height": 314
        },
        "outputId": "ba7bee4a-8b98-4876-8fee-c7a556a85080"
      },
      "execution_count": 4,
      "outputs": [
        {
          "output_type": "display_data",
          "data": {
            "text/plain": [
              "<Figure size 864x360 with 10 Axes>"
            ],
            "image/png": "[encoded data removed]"
          },
          "metadata": {
            "needs_background": "light"
          }
        }
      ]
    },
    {
      "cell_type": "markdown",
      "source": [
        "Print the corresponding labels of the displayed images from the target variable (Y_train):"
      ],
      "metadata": {
        "id": "FAQkUWlmm-bc"
      }
    },
    {
      "cell_type": "code",
      "source": [
        "print(Y_train)"
      ],
      "metadata": {
        "id": "AkOrWzghnJ78",
        "colab": {
          "base_uri": "https://localhost:8080/"
        },
        "outputId": "a879e6e6-8ada-4947-ad85-1acb522e9881"
      },
      "execution_count": 5,
      "outputs": [
        {
          "output_type": "stream",
          "name": "stdout",
          "text": [
            "[[6]\n",
            " [9]\n",
            " [9]\n",
            " ...\n",
            " [9]\n",
            " [1]\n",
            " [1]]\n"
          ]
        }
      ]
    },
    {
      "cell_type": "markdown",
      "source": [
        "## 1.2. Exercise\n",
        "We will train a Multi-Layer Perceptron (MLP), which requires a 2 dimensional input: 0th axis refers to the datapoints (i.e. images), the 1th dimens to the input. As images are 3 dimensional (width, height, color channels), you have to reshape the images into vectors. We also call this flattening. \n",
        "\n",
        "In order to do so, calculate the size of the equivalent 1D vector of the image:"
      ],
      "metadata": {
        "id": "VX24g5FstsRU"
      }
    },
    {
      "cell_type": "code",
      "source": [
        "flattened_dim = 32 * 32 * 3"
      ],
      "metadata": {
        "id": "hdoMyxHzuXZG"
      },
      "execution_count": 6,
      "outputs": []
    },
    {
      "cell_type": "markdown",
      "source": [
        "After you calculated it, we can reshape the images, and covert the integer \n",
        "\n",
        "*   List item\n",
        "*   List item\n",
        "\n",
        "arrays into float arrays -- which are needed for the neural networks as input. Hint:\n",
        "* in the [reshape() function of Numpy](https://www.w3schools.com/python/numpy/numpy_array_reshape.asp) you can use -1 for one axis, to automatically calculate that value."
      ],
      "metadata": {
        "id": "WbqXJUSFubeC"
      }
    },
    {
      "cell_type": "code",
      "source": [
        "# reshape 3D tensors to 2D tensors\n",
        "X_train = X_train.reshape(50000, flattened_dim)\n",
        "X_test = X_test.reshape(10000, flattened_dim)\n",
        "\n",
        "# it is in int8 format, the neural network requires float32\n",
        "X_train = X_train.astype(np.float32)\n",
        "X_test = X_test.astype(np.float32)"
      ],
      "metadata": {
        "id": "vukOcBM0XzSj"
      },
      "execution_count": 7,
      "outputs": []
    },
    {
      "cell_type": "markdown",
      "source": [
        "## 1.3. Exercise\n",
        "As the next step, let's split the training data into training and validation data. 80% of the original training data should be the final training data, and 20% the validation.\n",
        "You should use Numpy indexing to select the first 80% of X_train as final X_train, and the last 20% as X_valid. Hints: \n",
        "* https://datascienceparichay.com/article/numpy-array-first-n-rows/\n",
        "* https://datascienceparichay.com/article/numpy-array-last-n-rows/"
      ],
      "metadata": {
        "id": "DO79AdIdvVfD"
      }
    },
    {
      "cell_type": "code",
      "source": [
        "train_ratio  = 0.8\n",
        "train_length = X_train.shape[0] # length of the training data\n",
        "train_split  = int(train_length * train_ratio) # where to split the training and validation data\n",
        "X_valid, Y_valid = X_train[:train_split], Y_train[:train_split]\n",
        "X_train, Y_train = X_train[train_split:], Y_train[train_split:]"
      ],
      "metadata": {
        "id": "mRwuWxxIxLgN"
      },
      "execution_count": 8,
      "outputs": []
    },
    {
      "cell_type": "markdown",
      "source": [
        "## 1.4. Exercise\n",
        "As the last step of input data preparation, the data should be standardized. Calculate the mean and variance of the training data (elementvise -- so for each value of the flattened image you should get a mean and variance for the training data along 0th axis). Hint: \n",
        "* https://stackoverflow.com/questions/70626231/how-to-calculate-mean-variance-standard-deviation-per-index-of-array"
      ],
      "metadata": {
        "id": "z05y_QWDxWER"
      }
    },
    {
      "cell_type": "code",
      "source": [
        "mean = np.mean(X_train, axis=0)\n",
        "std  = np.std(X_train, axis=0)"
      ],
      "metadata": {
        "id": "TSZbvWCBx8Ea"
      },
      "execution_count": 9,
      "outputs": []
    },
    {
      "cell_type": "markdown",
      "source": [
        "Next, use the resulting values to standardize the training, validation and test data by substracting the mean and dividing the result with the standard deviation."
      ],
      "metadata": {
        "id": "6WRHKkkjyN1S"
      }
    },
    {
      "cell_type": "code",
      "source": [
        "from sys import stdin\n",
        "X_train = (X_train - mean) / std\n",
        "X_valid = (X_valid - mean) / std\n",
        "X_test  = (X_test - mean) / std"
      ],
      "metadata": {
        "id": "2ESLP1EIyB2J"
      },
      "execution_count": 10,
      "outputs": []
    },
    {
      "cell_type": "markdown",
      "source": [
        "## 1.5. Exercise\n",
        "And as the last step, convert the dense representation of the classes (i.e. 0,1,2,3...9) to one-hot encoding (0 = [1 0 0 0 0 0 0 0 0 0], 1 = [0 1 0 0 0 0 0 0 0 0] ... 9 = [0 0 0 0 0 0 0 0 0 1]). To do this, first, calculate the number of unique elements in the target training data. Hints:\n",
        "* use the [unique() function](https://numpy.org/doc/stable/reference/generated/numpy.unique.html) of Numpy to list the unique elements\n",
        "* you can count the number of elements in a list with the [len() function](https://www.w3schools.com/python/ref_func_len.asp)"
      ],
      "metadata": {
        "id": "ooHCnUin7r4o"
      }
    },
    {
      "cell_type": "code",
      "source": [
        "nb_classes = len(np.unique(Y_train))"
      ],
      "metadata": {
        "id": "i0LAO9cs8KEE"
      },
      "execution_count": 11,
      "outputs": []
    },
    {
      "cell_type": "markdown",
      "source": [
        "Doublecheck, if the same number of classes exists in the validation and test target data:"
      ],
      "metadata": {
        "id": "BvM6XhGe8JU9"
      }
    },
    {
      "cell_type": "code",
      "source": [
        "print(\"Validation data has the same number of classes, as the training data:\", nb_classes == len(np.unique(Y_valid)))\n",
        "print(\"Test data has the same number of classes, as the training data:\", nb_classes == len(np.unique(Y_test)))"
      ],
      "metadata": {
        "id": "eZFNSsyx_Py2",
        "colab": {
          "base_uri": "https://localhost:8080/"
        },
        "outputId": "b84cd115-15ce-4066-e29c-07b9945e64a7"
      },
      "execution_count": 12,
      "outputs": [
        {
          "output_type": "stream",
          "name": "stdout",
          "text": [
            "Validation data has the same number of classes, as the training data: True\n",
            "Test data has the same number of classes, as the training data: True\n"
          ]
        }
      ]
    },
    {
      "cell_type": "markdown",
      "source": [
        "And convert the dense representation into one-hot encoding. Hint:\n",
        "* use the [to_categorical function](https://www.tensorflow.org/api_docs/python/tf/keras/utils/to_categorical) with the calculated nb_classes\n"
      ],
      "metadata": {
        "id": "mJM-iBmR8dLe"
      }
    },
    {
      "cell_type": "code",
      "source": [
        "Y_train = to_categorical(Y_train, nb_classes)\n",
        "Y_valid = to_categorical(Y_valid, nb_classes)\n",
        "Y_test  = to_categorical(Y_test, nb_classes)"
      ],
      "metadata": {
        "id": "xwZ4OJ6I8lba"
      },
      "execution_count": 13,
      "outputs": []
    },
    {
      "cell_type": "markdown",
      "source": [
        "## Final check of data preparation\n",
        "Now, lets check the shapes and mean and standard deviation of the training, validation and test data."
      ],
      "metadata": {
        "id": "LshN2OSsv3TZ"
      }
    },
    {
      "cell_type": "code",
      "source": [
        "print(\"Shapes of the training, validation and test input data:\", X_train.shape, X_valid.shape, X_test.shape)\n",
        "print(\"Shapes of the training, validation and test output data:\", Y_train.shape, Y_valid.shape, Y_test.shape)\n",
        "print(\"Mean values of the training, validation and test input data:\", X_train.mean(), X_valid.mean(), X_test.mean())\n",
        "print(\"Standard deviation of the training, validation and test input data:\", X_train.std(), X_valid.std(), X_test.std())"
      ],
      "metadata": {
        "id": "O_jdJVcvX0vi",
        "colab": {
          "base_uri": "https://localhost:8080/"
        },
        "outputId": "eaa7dc3d-b3cb-4a1f-e77e-86b02d3411c0"
      },
      "execution_count": 14,
      "outputs": [
        {
          "output_type": "stream",
          "name": "stdout",
          "text": [
            "Shapes of the training, validation and test input data: (10000, 3072) (40000, 3072) (10000, 3072)\n",
            "Shapes of the training, validation and test output data: (10000, 10) (40000, 10) (10000, 10)\n",
            "Mean values of the training, validation and test input data: -8.1857043e-10 -0.002343263 0.011031568\n",
            "Standard deviation of the training, validation and test input data: 1.0000011 1.0036033 1.0013864\n"
          ]
        }
      ]
    },
    {
      "cell_type": "markdown",
      "source": [
        "Don't worry, if the mean and standard deviation of the validation and test data are not exactly 0 and 1, but these might be very mear to it (e.g. 0.01 mean, 0.99 variance)."
      ],
      "metadata": {
        "id": "5GtAOOoezmZY"
      }
    },
    {
      "cell_type": "markdown",
      "metadata": {
        "id": "cJ14oyZExpqj"
      },
      "source": [
        "# 2. Training "
      ]
    },
    {
      "cell_type": "markdown",
      "metadata": {
        "id": "s4ZXYRMBxpql"
      },
      "source": [
        "Let us begin with a simple example of creating a small neural network without regularization and training it with actual data. The purpose of this is to provide you with an example as to how to proceed with the next exercise. "
      ]
    },
    {
      "cell_type": "code",
      "source": [
        "# imports \n",
        "import numpy as np\n",
        "import matplotlib.pyplot as plt\n",
        "from tensorflow.keras.models import Sequential\n",
        "from tensorflow.keras.layers import Dense, Embedding, Flatten, Dropout\n",
        "from tensorflow.keras.initializers import HeNormal\n",
        "from tensorflow.keras.callbacks import EarlyStopping"
      ],
      "metadata": {
        "id": "6-8Q6ll7ZDgq"
      },
      "execution_count": 15,
      "outputs": []
    },
    {
      "cell_type": "code",
      "source": [
        "# model definition\n",
        "model = Sequential()\n",
        "model.add(Dense(128, activation='tanh', input_shape=(flattened_dim,)))\n",
        "model.add(Dense(128, activation='tanh'))\n",
        "model.add(Dense(nb_classes, activation='softmax'))\n",
        "\n",
        "# loss function and optimizer\n",
        "model.compile(loss='categorical_crossentropy', optimizer='adam', metrics=['accuracy'])"
      ],
      "metadata": {
        "id": "pke6w3CD8DHp"
      },
      "execution_count": 16,
      "outputs": []
    },
    {
      "cell_type": "code",
      "metadata": {
        "id": "CZbOR76QxprC",
        "colab": {
          "base_uri": "https://localhost:8080/"
        },
        "outputId": "ea5ca117-a2dd-493d-ac96-33b6f918ec0c"
      },
      "source": [
        "# training\n",
        "network_history = model.fit(X_train, Y_train, \n",
        "                            validation_data=(X_valid,Y_valid),\n",
        "                            batch_size=128,                             \n",
        "                            epochs=40, \n",
        "                            verbose=1)"
      ],
      "execution_count": 17,
      "outputs": [
        {
          "output_type": "stream",
          "name": "stdout",
          "text": [
            "Epoch 1/40\n",
            "79/79 [==============================] - 8s 32ms/step - loss: 1.9290 - accuracy: 0.3211 - val_loss: 1.8157 - val_accuracy: 0.3648\n",
            "Epoch 2/40\n",
            "79/79 [==============================] - 1s 14ms/step - loss: 1.7270 - accuracy: 0.4068 - val_loss: 1.7897 - val_accuracy: 0.3725\n",
            "Epoch 3/40\n",
            "79/79 [==============================] - 1s 18ms/step - loss: 1.6388 - accuracy: 0.4323 - val_loss: 1.7899 - val_accuracy: 0.3728\n",
            "Epoch 4/40\n",
            "79/79 [==============================] - 1s 15ms/step - loss: 1.5607 - accuracy: 0.4624 - val_loss: 1.7834 - val_accuracy: 0.3769\n",
            "Epoch 5/40\n",
            "79/79 [==============================] - 2s 20ms/step - loss: 1.4906 - accuracy: 0.4955 - val_loss: 1.8084 - val_accuracy: 0.3748\n",
            "Epoch 6/40\n",
            "79/79 [==============================] - 1s 13ms/step - loss: 1.4361 - accuracy: 0.5142 - val_loss: 1.8016 - val_accuracy: 0.3821\n",
            "Epoch 7/40\n",
            "79/79 [==============================] - 2s 20ms/step - loss: 1.3802 - accuracy: 0.5363 - val_loss: 1.8145 - val_accuracy: 0.3813\n",
            "Epoch 8/40\n",
            "79/79 [==============================] - 2s 20ms/step - loss: 1.3423 - accuracy: 0.5512 - val_loss: 1.8431 - val_accuracy: 0.3776\n",
            "Epoch 9/40\n",
            "79/79 [==============================] - 1s 13ms/step - loss: 1.2883 - accuracy: 0.5707 - val_loss: 1.8695 - val_accuracy: 0.3712\n",
            "Epoch 10/40\n",
            "79/79 [==============================] - 2s 20ms/step - loss: 1.2333 - accuracy: 0.5845 - val_loss: 1.8939 - val_accuracy: 0.3738\n",
            "Epoch 11/40\n",
            "79/79 [==============================] - 2s 20ms/step - loss: 1.1828 - accuracy: 0.6058 - val_loss: 1.9192 - val_accuracy: 0.3755\n",
            "Epoch 12/40\n",
            "79/79 [==============================] - 1s 18ms/step - loss: 1.1219 - accuracy: 0.6272 - val_loss: 1.9290 - val_accuracy: 0.3807\n",
            "Epoch 13/40\n",
            "79/79 [==============================] - 1s 13ms/step - loss: 1.0691 - accuracy: 0.6477 - val_loss: 1.9584 - val_accuracy: 0.3768\n",
            "Epoch 14/40\n",
            "79/79 [==============================] - 1s 13ms/step - loss: 1.0273 - accuracy: 0.6654 - val_loss: 2.0321 - val_accuracy: 0.3725\n",
            "Epoch 15/40\n",
            "79/79 [==============================] - 1s 13ms/step - loss: 0.9561 - accuracy: 0.6912 - val_loss: 2.0671 - val_accuracy: 0.3699\n",
            "Epoch 16/40\n",
            "79/79 [==============================] - 1s 15ms/step - loss: 0.9133 - accuracy: 0.7089 - val_loss: 2.0836 - val_accuracy: 0.3759\n",
            "Epoch 17/40\n",
            "79/79 [==============================] - 1s 18ms/step - loss: 0.8871 - accuracy: 0.7070 - val_loss: 2.1546 - val_accuracy: 0.3625\n",
            "Epoch 18/40\n",
            "79/79 [==============================] - 2s 21ms/step - loss: 0.8542 - accuracy: 0.7203 - val_loss: 2.1731 - val_accuracy: 0.3681\n",
            "Epoch 19/40\n",
            "79/79 [==============================] - 2s 20ms/step - loss: 0.8023 - accuracy: 0.7450 - val_loss: 2.2560 - val_accuracy: 0.3585\n",
            "Epoch 20/40\n",
            "79/79 [==============================] - 2s 20ms/step - loss: 0.7987 - accuracy: 0.7382 - val_loss: 2.2752 - val_accuracy: 0.3660\n",
            "Epoch 21/40\n",
            "79/79 [==============================] - 2s 21ms/step - loss: 0.7390 - accuracy: 0.7560 - val_loss: 2.3199 - val_accuracy: 0.3602\n",
            "Epoch 22/40\n",
            "79/79 [==============================] - 2s 20ms/step - loss: 0.7009 - accuracy: 0.7780 - val_loss: 2.3520 - val_accuracy: 0.3605\n",
            "Epoch 23/40\n",
            "79/79 [==============================] - 2s 20ms/step - loss: 0.6479 - accuracy: 0.7954 - val_loss: 2.3995 - val_accuracy: 0.3577\n",
            "Epoch 24/40\n",
            "79/79 [==============================] - 2s 20ms/step - loss: 0.6121 - accuracy: 0.8093 - val_loss: 2.4344 - val_accuracy: 0.3601\n",
            "Epoch 25/40\n",
            "79/79 [==============================] - 2s 20ms/step - loss: 0.5880 - accuracy: 0.8186 - val_loss: 2.4889 - val_accuracy: 0.3578\n",
            "Epoch 26/40\n",
            "79/79 [==============================] - 2s 20ms/step - loss: 0.5618 - accuracy: 0.8220 - val_loss: 2.5266 - val_accuracy: 0.3625\n",
            "Epoch 27/40\n",
            "79/79 [==============================] - 2s 20ms/step - loss: 0.5763 - accuracy: 0.8162 - val_loss: 2.5453 - val_accuracy: 0.3626\n",
            "Epoch 28/40\n",
            "79/79 [==============================] - 2s 20ms/step - loss: 0.5324 - accuracy: 0.8287 - val_loss: 2.5952 - val_accuracy: 0.3552\n",
            "Epoch 29/40\n",
            "79/79 [==============================] - 1s 15ms/step - loss: 0.4678 - accuracy: 0.8573 - val_loss: 2.6843 - val_accuracy: 0.3536\n",
            "Epoch 30/40\n",
            "79/79 [==============================] - 2s 20ms/step - loss: 0.4697 - accuracy: 0.8548 - val_loss: 2.7125 - val_accuracy: 0.3491\n",
            "Epoch 31/40\n",
            "79/79 [==============================] - 2s 20ms/step - loss: 0.4445 - accuracy: 0.8637 - val_loss: 2.7678 - val_accuracy: 0.3500\n",
            "Epoch 32/40\n",
            "79/79 [==============================] - 1s 13ms/step - loss: 0.4220 - accuracy: 0.8717 - val_loss: 2.8264 - val_accuracy: 0.3537\n",
            "Epoch 33/40\n",
            "79/79 [==============================] - 1s 13ms/step - loss: 0.3991 - accuracy: 0.8780 - val_loss: 2.8428 - val_accuracy: 0.3550\n",
            "Epoch 34/40\n",
            "79/79 [==============================] - 2s 20ms/step - loss: 0.3843 - accuracy: 0.8838 - val_loss: 2.8928 - val_accuracy: 0.3523\n",
            "Epoch 35/40\n",
            "79/79 [==============================] - 1s 13ms/step - loss: 0.3770 - accuracy: 0.8827 - val_loss: 2.9553 - val_accuracy: 0.3496\n",
            "Epoch 36/40\n",
            "79/79 [==============================] - 1s 13ms/step - loss: 0.3564 - accuracy: 0.8919 - val_loss: 2.9894 - val_accuracy: 0.3475\n",
            "Epoch 37/40\n",
            "79/79 [==============================] - 2s 20ms/step - loss: 0.3307 - accuracy: 0.9007 - val_loss: 3.0473 - val_accuracy: 0.3512\n",
            "Epoch 38/40\n",
            "79/79 [==============================] - 2s 21ms/step - loss: 0.3313 - accuracy: 0.9033 - val_loss: 3.0720 - val_accuracy: 0.3477\n",
            "Epoch 39/40\n",
            "79/79 [==============================] - 1s 17ms/step - loss: 0.3534 - accuracy: 0.8898 - val_loss: 3.1144 - val_accuracy: 0.3515\n",
            "Epoch 40/40\n",
            "79/79 [==============================] - 2s 20ms/step - loss: 0.3520 - accuracy: 0.8873 - val_loss: 3.1653 - val_accuracy: 0.3489\n"
          ]
        }
      ]
    },
    {
      "cell_type": "markdown",
      "metadata": {
        "id": "uFqhzV85xprJ"
      },
      "source": [
        "Let's plot the training and validation loss and accuracy curves:"
      ]
    },
    {
      "cell_type": "code",
      "metadata": {
        "id": "BYmXGkLCxprK",
        "colab": {
          "base_uri": "https://localhost:8080/",
          "height": 541
        },
        "outputId": "faf9ae8d-7638-4280-8921-2a93d9ba7e7e"
      },
      "source": [
        "def plot_history(network_history):\n",
        "    plt.figure()\n",
        "    plt.xlabel('Epochs')\n",
        "    plt.ylabel('Loss')\n",
        "    plt.plot(network_history.history['loss'])\n",
        "    plt.plot(network_history.history['val_loss'])\n",
        "    plt.legend(['Training', 'Validation'])\n",
        "\n",
        "    plt.figure()\n",
        "    plt.xlabel('Epochs')\n",
        "    plt.ylabel('Accuracy')\n",
        "    plt.plot(network_history.history['accuracy'])\n",
        "    plt.plot(network_history.history['val_accuracy'])\n",
        "    plt.legend(['Training', 'Validation'], loc='lower right')\n",
        "    plt.show()\n",
        "\n",
        "plot_history(network_history)"
      ],
      "execution_count": 18,
      "outputs": [
        {
          "output_type": "display_data",
          "data": {
            "text/plain": [
              "<Figure size 432x288 with 1 Axes>"
            ],
            "image/png": "[encoded data removed]"
          },
          "metadata": {
            "needs_background": "light"
          }
        },
        {
          "output_type": "display_data",
          "data": {
            "text/plain": [
              "<Figure size 432x288 with 1 Axes>"
            ],
            "image/png": "[encoded data removed]"
          },
          "metadata": {
            "needs_background": "light"
          }
        }
      ]
    },
    {
      "cell_type": "markdown",
      "source": [
        "What do you think? Does it overfit? "
      ],
      "metadata": {
        "id": "tgG7QeXF-dx6"
      }
    },
    {
      "cell_type": "markdown",
      "metadata": {
        "id": "_Q9rIeBBxprO"
      },
      "source": [
        "# Inspecting the model"
      ]
    },
    {
      "cell_type": "code",
      "metadata": {
        "id": "6r2AmmoMxprP",
        "colab": {
          "base_uri": "https://localhost:8080/"
        },
        "outputId": "004cc29e-d327-4e98-a2db-43deb90df453"
      },
      "source": [
        "model.summary()"
      ],
      "execution_count": 19,
      "outputs": [
        {
          "output_type": "stream",
          "name": "stdout",
          "text": [
            "Model: \"sequential\"\n",
            "_________________________________________________________________\n",
            " Layer (type)                Output Shape              Param #   \n",
            "=================================================================\n",
            " dense (Dense)               (None, 128)               393344    \n",
            "                                                                 \n",
            " dense_1 (Dense)             (None, 128)               16512     \n",
            "                                                                 \n",
            " dense_2 (Dense)             (None, 10)                1290      \n",
            "                                                                 \n",
            "=================================================================\n",
            "Total params: 411,146\n",
            "Trainable params: 411,146\n",
            "Non-trainable params: 0\n",
            "_________________________________________________________________\n"
          ]
        }
      ]
    },
    {
      "cell_type": "code",
      "metadata": {
        "id": "D3-bVDVuxprS",
        "colab": {
          "base_uri": "https://localhost:8080/"
        },
        "outputId": "a490aa28-0e90-4763-8b75-5c9f31525b53"
      },
      "source": [
        "print('Input: ', model.input)"
      ],
      "execution_count": 20,
      "outputs": [
        {
          "output_type": "stream",
          "name": "stdout",
          "text": [
            "Input:  KerasTensor(type_spec=TensorSpec(shape=(None, 3072), dtype=tf.float32, name='dense_input'), name='dense_input', description=\"created by layer 'dense_input'\")\n"
          ]
        }
      ]
    },
    {
      "cell_type": "code",
      "metadata": {
        "id": "Da2OJ3DmxprX",
        "colab": {
          "base_uri": "https://localhost:8080/"
        },
        "outputId": "06692170-027c-41ed-849c-6f0b9a2163f1"
      },
      "source": [
        "print('Layers:\\n')\n",
        "for layer in model.layers:\n",
        "    print(\"Layer's name: \", layer.name, ', trainable: ', layer.trainable)\n",
        "    print(layer.get_config(),'\\n')"
      ],
      "execution_count": 21,
      "outputs": [
        {
          "output_type": "stream",
          "name": "stdout",
          "text": [
            "Layers:\n",
            "\n",
            "Layer's name:  dense , trainable:  True\n",
            "{'name': 'dense', 'trainable': True, 'dtype': 'float32', 'batch_input_shape': (None, 3072), 'units': 128, 'activation': 'tanh', 'use_bias': True, 'kernel_initializer': {'class_name': 'GlorotUniform', 'config': {'seed': None}}, 'bias_initializer': {'class_name': 'Zeros', 'config': {}}, 'kernel_regularizer': None, 'bias_regularizer': None, 'activity_regularizer': None, 'kernel_constraint': None, 'bias_constraint': None} \n",
            "\n",
            "Layer's name:  dense_1 , trainable:  True\n",
            "{'name': 'dense_1', 'trainable': True, 'dtype': 'float32', 'units': 128, 'activation': 'tanh', 'use_bias': True, 'kernel_initializer': {'class_name': 'GlorotUniform', 'config': {'seed': None}}, 'bias_initializer': {'class_name': 'Zeros', 'config': {}}, 'kernel_regularizer': None, 'bias_regularizer': None, 'activity_regularizer': None, 'kernel_constraint': None, 'bias_constraint': None} \n",
            "\n",
            "Layer's name:  dense_2 , trainable:  True\n",
            "{'name': 'dense_2', 'trainable': True, 'dtype': 'float32', 'units': 10, 'activation': 'softmax', 'use_bias': True, 'kernel_initializer': {'class_name': 'GlorotUniform', 'config': {'seed': None}}, 'bias_initializer': {'class_name': 'Zeros', 'config': {}}, 'kernel_regularizer': None, 'bias_regularizer': None, 'activity_regularizer': None, 'kernel_constraint': None, 'bias_constraint': None} \n",
            "\n"
          ]
        }
      ]
    },
    {
      "cell_type": "code",
      "metadata": {
        "id": "AtVX3M3lxprc",
        "colab": {
          "base_uri": "https://localhost:8080/"
        },
        "outputId": "05ceec46-cfc1-46fa-c5c2-29e1eac8f2b1"
      },
      "source": [
        "print('Output: ', model.output)"
      ],
      "execution_count": 22,
      "outputs": [
        {
          "output_type": "stream",
          "name": "stdout",
          "text": [
            "Output:  KerasTensor(type_spec=TensorSpec(shape=(None, 10), dtype=tf.float32, name=None), name='dense_2/Softmax:0', description=\"created by layer 'dense_2'\")\n"
          ]
        }
      ]
    },
    {
      "cell_type": "markdown",
      "source": [
        "## 2.1. Exercise\n",
        "Introduce [early stopping](https://www.tensorflow.org/api_docs/python/tf/keras/callbacks/EarlyStopping) and [dropout](https://www.tensorflow.org/api_docs/python/tf/keras/layers/Dropout) with a rate between 0.1..0.5. Tips:\n",
        "\n",
        "* Insert the dropout layer between the two Dense layers. \n",
        "* Set the patience of early stopping to 5.\n",
        "* Set the number of epochs to a very high number.\n",
        "* Don't forget to restore best weights after early stopping. \n",
        "* And also set early stopping to monitor validation accuracy (the default value is validation loss -- which is categorical crossentropy now).\n",
        "\n",
        "Compile and train the model. Attempt to increase the validation accuracy as much as possible by making changes to the dropout rate. Inspect the effects of the modifications."
      ],
      "metadata": {
        "id": "E-hHfs9qA_iO"
      }
    },
    {
      "cell_type": "code",
      "source": [
        "es = EarlyStopping(\n",
        "    monitor='val_accuracy',\n",
        "    min_delta=0,\n",
        "    patience=5,\n",
        "    verbose=0,\n",
        "    mode='auto',\n",
        "    baseline=None,\n",
        "    restore_best_weights=True,\n",
        "    start_from_epoch=0\n",
        ")"
      ],
      "metadata": {
        "id": "NwXrPzOgEBG-"
      },
      "execution_count": 23,
      "outputs": []
    },
    {
      "cell_type": "code",
      "source": [
        "# model definition with dropout\n",
        "model = Sequential()\n",
        "model.add(Dense(128, activation='tanh', input_shape=(flattened_dim,)))\n",
        "model.add(Dropout(0.3))\n",
        "model.add(Dense(128, activation='tanh'))\n",
        "model.add(Dense(nb_classes, activation='softmax'))\n",
        "\n",
        "# loss function and optimizer\n",
        "model.compile(loss='categorical_crossentropy', optimizer='adam', metrics=['accuracy'])"
      ],
      "metadata": {
        "id": "7hZEGzj8GFwP"
      },
      "execution_count": 24,
      "outputs": []
    },
    {
      "cell_type": "code",
      "source": [
        "# training with early stopping\n",
        "network_history = model.fit(X_train, Y_train, \n",
        "                            validation_data=(X_valid,Y_valid),\n",
        "                            batch_size=128,                             \n",
        "                            epochs=1000, \n",
        "                            verbose=1, \n",
        "                            callbacks=[es])"
      ],
      "metadata": {
        "id": "GCG54R-vGGWj",
        "colab": {
          "base_uri": "https://localhost:8080/"
        },
        "outputId": "f96d04e5-ceb2-416e-e2bc-d8238ad66f92"
      },
      "execution_count": 25,
      "outputs": [
        {
          "output_type": "stream",
          "name": "stdout",
          "text": [
            "Epoch 1/100\n",
            "79/79 [==============================] - 4s 32ms/step - loss: 1.9939 - accuracy: 0.2967 - val_loss: 1.8579 - val_accuracy: 0.3457\n",
            "Epoch 2/100\n",
            "79/79 [==============================] - 1s 16ms/step - loss: 1.8459 - accuracy: 0.3514 - val_loss: 1.8218 - val_accuracy: 0.3623\n",
            "Epoch 3/100\n",
            "79/79 [==============================] - 2s 20ms/step - loss: 1.7861 - accuracy: 0.3764 - val_loss: 1.7951 - val_accuracy: 0.3657\n",
            "Epoch 4/100\n",
            "79/79 [==============================] - 1s 13ms/step - loss: 1.7577 - accuracy: 0.3868 - val_loss: 1.7694 - val_accuracy: 0.3810\n",
            "Epoch 5/100\n",
            "79/79 [==============================] - 2s 20ms/step - loss: 1.7241 - accuracy: 0.3979 - val_loss: 1.7739 - val_accuracy: 0.3809\n",
            "Epoch 6/100\n",
            "79/79 [==============================] - 1s 17ms/step - loss: 1.6875 - accuracy: 0.4131 - val_loss: 1.7604 - val_accuracy: 0.3837\n",
            "Epoch 7/100\n",
            "79/79 [==============================] - 1s 13ms/step - loss: 1.6807 - accuracy: 0.4140 - val_loss: 1.7596 - val_accuracy: 0.3853\n",
            "Epoch 8/100\n",
            "79/79 [==============================] - 1s 14ms/step - loss: 1.6482 - accuracy: 0.4248 - val_loss: 1.7617 - val_accuracy: 0.3816\n",
            "Epoch 9/100\n",
            "79/79 [==============================] - 1s 13ms/step - loss: 1.6231 - accuracy: 0.4343 - val_loss: 1.7498 - val_accuracy: 0.3935\n",
            "Epoch 10/100\n",
            "79/79 [==============================] - 1s 14ms/step - loss: 1.6032 - accuracy: 0.4460 - val_loss: 1.7473 - val_accuracy: 0.3978\n",
            "Epoch 11/100\n",
            "79/79 [==============================] - 2s 20ms/step - loss: 1.5820 - accuracy: 0.4548 - val_loss: 1.7382 - val_accuracy: 0.3961\n",
            "Epoch 12/100\n",
            "79/79 [==============================] - 1s 13ms/step - loss: 1.5527 - accuracy: 0.4636 - val_loss: 1.7496 - val_accuracy: 0.3977\n",
            "Epoch 13/100\n",
            "79/79 [==============================] - 1s 14ms/step - loss: 1.5229 - accuracy: 0.4760 - val_loss: 1.7393 - val_accuracy: 0.4028\n",
            "Epoch 14/100\n",
            "79/79 [==============================] - 2s 20ms/step - loss: 1.5194 - accuracy: 0.4751 - val_loss: 1.7418 - val_accuracy: 0.3983\n",
            "Epoch 15/100\n",
            "79/79 [==============================] - 3s 38ms/step - loss: 1.4986 - accuracy: 0.4840 - val_loss: 1.7324 - val_accuracy: 0.4029\n",
            "Epoch 16/100\n",
            "79/79 [==============================] - 2s 20ms/step - loss: 1.4708 - accuracy: 0.4953 - val_loss: 1.7404 - val_accuracy: 0.4065\n",
            "Epoch 17/100\n",
            "79/79 [==============================] - 1s 13ms/step - loss: 1.4675 - accuracy: 0.4953 - val_loss: 1.7495 - val_accuracy: 0.4017\n",
            "Epoch 18/100\n",
            "79/79 [==============================] - 1s 13ms/step - loss: 1.4389 - accuracy: 0.5044 - val_loss: 1.7474 - val_accuracy: 0.4086\n",
            "Epoch 19/100\n",
            "79/79 [==============================] - 1s 13ms/step - loss: 1.4351 - accuracy: 0.5068 - val_loss: 1.7462 - val_accuracy: 0.4068\n",
            "Epoch 20/100\n",
            "79/79 [==============================] - 2s 20ms/step - loss: 1.4134 - accuracy: 0.5120 - val_loss: 1.7522 - val_accuracy: 0.4052\n",
            "Epoch 21/100\n",
            "79/79 [==============================] - 2s 20ms/step - loss: 1.3924 - accuracy: 0.5225 - val_loss: 1.7487 - val_accuracy: 0.4091\n",
            "Epoch 22/100\n",
            "79/79 [==============================] - 1s 13ms/step - loss: 1.3748 - accuracy: 0.5270 - val_loss: 1.7510 - val_accuracy: 0.4074\n",
            "Epoch 23/100\n",
            "79/79 [==============================] - 2s 20ms/step - loss: 1.3530 - accuracy: 0.5372 - val_loss: 1.7581 - val_accuracy: 0.4081\n",
            "Epoch 24/100\n",
            "79/79 [==============================] - 2s 21ms/step - loss: 1.3391 - accuracy: 0.5445 - val_loss: 1.7573 - val_accuracy: 0.4091\n",
            "Epoch 25/100\n",
            "79/79 [==============================] - 2s 20ms/step - loss: 1.3324 - accuracy: 0.5474 - val_loss: 1.7594 - val_accuracy: 0.4085\n",
            "Epoch 26/100\n",
            "79/79 [==============================] - 2s 20ms/step - loss: 1.3123 - accuracy: 0.5534 - val_loss: 1.7561 - val_accuracy: 0.4105\n",
            "Epoch 27/100\n",
            "79/79 [==============================] - 2s 20ms/step - loss: 1.3026 - accuracy: 0.5575 - val_loss: 1.7638 - val_accuracy: 0.4081\n",
            "Epoch 28/100\n",
            "79/79 [==============================] - 2s 20ms/step - loss: 1.2947 - accuracy: 0.5527 - val_loss: 1.7689 - val_accuracy: 0.4126\n",
            "Epoch 29/100\n",
            "79/79 [==============================] - 1s 13ms/step - loss: 1.2657 - accuracy: 0.5714 - val_loss: 1.7742 - val_accuracy: 0.4095\n",
            "Epoch 30/100\n",
            "79/79 [==============================] - 1s 13ms/step - loss: 1.2341 - accuracy: 0.5792 - val_loss: 1.7825 - val_accuracy: 0.4112\n",
            "Epoch 31/100\n",
            "79/79 [==============================] - 1s 15ms/step - loss: 1.2327 - accuracy: 0.5863 - val_loss: 1.7772 - val_accuracy: 0.4105\n",
            "Epoch 32/100\n",
            "79/79 [==============================] - 1s 18ms/step - loss: 1.2078 - accuracy: 0.5917 - val_loss: 1.7966 - val_accuracy: 0.4096\n",
            "Epoch 33/100\n",
            "79/79 [==============================] - 2s 21ms/step - loss: 1.2107 - accuracy: 0.5898 - val_loss: 1.7941 - val_accuracy: 0.4088\n"
          ]
        }
      ]
    },
    {
      "cell_type": "markdown",
      "source": [
        "## 2.2 Exercise\n",
        "Change the [activation function of the dense layers (except the last one)](https://www.tensorflow.org/api_docs/python/tf/keras/layers/Dense) to rectified linear unit (ReLU) and the [weight initialization](https://www.tensorflow.org/api_docs/python/tf/keras/initializers) to the theoretically best one. Use the original model's code.\n",
        "\n",
        "Compile and train the model. Inspect the effects of the modifications."
      ],
      "metadata": {
        "id": "zQCDM1o1BBtF"
      }
    },
    {
      "cell_type": "code",
      "source": [
        "# model definition with relu\n",
        "model = Sequential()\n",
        "model.add(Dense(128, activation='relu', kernel_initializer=HeNormal(), input_shape=(flattened_dim,)))\n",
        "model.add(Dense(128, activation='relu', kernel_initializer=HeNormal()))\n",
        "model.add(Dense(nb_classes, activation='softmax'))\n",
        "\n",
        "# loss function and optimizer\n",
        "model.compile(loss='categorical_crossentropy', optimizer='adam', metrics=['accuracy'])"
      ],
      "metadata": {
        "id": "YjHAAh-wGu9O"
      },
      "execution_count": 26,
      "outputs": []
    },
    {
      "cell_type": "code",
      "source": [
        "# training\n",
        "network_history = model.fit(X_train, Y_train, \n",
        "                            validation_data=(X_valid,Y_valid),\n",
        "                            batch_size=128,                             \n",
        "                            epochs=40, \n",
        "                            verbose=1)"
      ],
      "metadata": {
        "id": "rarwKM1wGxMz",
        "colab": {
          "base_uri": "https://localhost:8080/"
        },
        "outputId": "f82119b8-577b-401b-f9c4-8420f363619e"
      },
      "execution_count": 27,
      "outputs": [
        {
          "output_type": "stream",
          "name": "stdout",
          "text": [
            "Epoch 1/40\n",
            "79/79 [==============================] - 3s 32ms/step - loss: 2.1041 - accuracy: 0.3220 - val_loss: 1.8659 - val_accuracy: 0.3700\n",
            "Epoch 2/40\n",
            "79/79 [==============================] - 2s 20ms/step - loss: 1.6714 - accuracy: 0.4306 - val_loss: 1.8287 - val_accuracy: 0.3782\n",
            "Epoch 3/40\n",
            "79/79 [==============================] - 1s 13ms/step - loss: 1.5171 - accuracy: 0.4827 - val_loss: 1.7656 - val_accuracy: 0.4095\n",
            "Epoch 4/40\n",
            "79/79 [==============================] - 2s 20ms/step - loss: 1.3589 - accuracy: 0.5367 - val_loss: 1.8093 - val_accuracy: 0.4086\n",
            "Epoch 5/40\n",
            "79/79 [==============================] - 2s 20ms/step - loss: 1.2159 - accuracy: 0.5897 - val_loss: 1.7967 - val_accuracy: 0.4152\n",
            "Epoch 6/40\n",
            "79/79 [==============================] - 1s 16ms/step - loss: 1.1260 - accuracy: 0.6158 - val_loss: 1.8171 - val_accuracy: 0.4216\n",
            "Epoch 7/40\n",
            "79/79 [==============================] - 1s 13ms/step - loss: 1.0106 - accuracy: 0.6601 - val_loss: 1.9184 - val_accuracy: 0.4088\n",
            "Epoch 8/40\n",
            "79/79 [==============================] - 2s 20ms/step - loss: 0.9235 - accuracy: 0.6895 - val_loss: 1.9725 - val_accuracy: 0.4035\n",
            "Epoch 9/40\n",
            "79/79 [==============================] - 1s 13ms/step - loss: 0.8196 - accuracy: 0.7257 - val_loss: 1.9909 - val_accuracy: 0.4142\n",
            "Epoch 10/40\n",
            "79/79 [==============================] - 2s 20ms/step - loss: 0.7417 - accuracy: 0.7499 - val_loss: 2.0266 - val_accuracy: 0.4238\n",
            "Epoch 11/40\n",
            "79/79 [==============================] - 2s 20ms/step - loss: 0.7062 - accuracy: 0.7670 - val_loss: 2.1347 - val_accuracy: 0.4092\n",
            "Epoch 12/40\n",
            "79/79 [==============================] - 1s 13ms/step - loss: 0.6597 - accuracy: 0.7840 - val_loss: 2.1779 - val_accuracy: 0.4142\n",
            "Epoch 13/40\n",
            "79/79 [==============================] - 2s 20ms/step - loss: 0.5502 - accuracy: 0.8189 - val_loss: 2.2613 - val_accuracy: 0.4175\n",
            "Epoch 14/40\n",
            "79/79 [==============================] - 1s 17ms/step - loss: 0.4872 - accuracy: 0.8462 - val_loss: 2.3794 - val_accuracy: 0.4138\n",
            "Epoch 15/40\n",
            "79/79 [==============================] - 1s 16ms/step - loss: 0.4456 - accuracy: 0.8575 - val_loss: 2.3934 - val_accuracy: 0.4149\n",
            "Epoch 16/40\n",
            "79/79 [==============================] - 1s 13ms/step - loss: 0.3739 - accuracy: 0.8869 - val_loss: 2.5338 - val_accuracy: 0.4069\n",
            "Epoch 17/40\n",
            "79/79 [==============================] - 2s 20ms/step - loss: 0.3630 - accuracy: 0.8870 - val_loss: 2.6041 - val_accuracy: 0.4146\n",
            "Epoch 18/40\n",
            "79/79 [==============================] - 1s 13ms/step - loss: 0.2866 - accuracy: 0.9181 - val_loss: 2.7067 - val_accuracy: 0.4114\n",
            "Epoch 19/40\n",
            "79/79 [==============================] - 2s 20ms/step - loss: 0.2732 - accuracy: 0.9192 - val_loss: 2.8452 - val_accuracy: 0.4032\n",
            "Epoch 20/40\n",
            "79/79 [==============================] - 1s 13ms/step - loss: 0.2882 - accuracy: 0.9086 - val_loss: 2.8805 - val_accuracy: 0.4130\n",
            "Epoch 21/40\n",
            "79/79 [==============================] - 1s 13ms/step - loss: 0.2495 - accuracy: 0.9250 - val_loss: 3.0579 - val_accuracy: 0.4090\n",
            "Epoch 22/40\n",
            "79/79 [==============================] - 1s 13ms/step - loss: 0.2620 - accuracy: 0.9174 - val_loss: 3.0876 - val_accuracy: 0.4086\n",
            "Epoch 23/40\n",
            "79/79 [==============================] - 1s 13ms/step - loss: 0.1966 - accuracy: 0.9441 - val_loss: 3.0968 - val_accuracy: 0.4164\n",
            "Epoch 24/40\n",
            "79/79 [==============================] - 2s 20ms/step - loss: 0.1654 - accuracy: 0.9533 - val_loss: 3.2428 - val_accuracy: 0.4094\n",
            "Epoch 25/40\n",
            "79/79 [==============================] - 1s 16ms/step - loss: 0.1685 - accuracy: 0.9523 - val_loss: 3.3386 - val_accuracy: 0.4096\n",
            "Epoch 26/40\n",
            "79/79 [==============================] - 2s 20ms/step - loss: 0.1274 - accuracy: 0.9677 - val_loss: 3.4223 - val_accuracy: 0.4141\n",
            "Epoch 27/40\n",
            "79/79 [==============================] - 1s 13ms/step - loss: 0.1478 - accuracy: 0.9575 - val_loss: 3.4665 - val_accuracy: 0.4173\n",
            "Epoch 28/40\n",
            "79/79 [==============================] - 1s 13ms/step - loss: 0.1320 - accuracy: 0.9635 - val_loss: 3.6216 - val_accuracy: 0.4136\n",
            "Epoch 29/40\n",
            "79/79 [==============================] - 2s 20ms/step - loss: 0.1342 - accuracy: 0.9612 - val_loss: 3.6490 - val_accuracy: 0.4114\n",
            "Epoch 30/40\n",
            "79/79 [==============================] - 2s 20ms/step - loss: 0.1008 - accuracy: 0.9717 - val_loss: 3.7010 - val_accuracy: 0.4166\n",
            "Epoch 31/40\n",
            "79/79 [==============================] - 2s 20ms/step - loss: 0.0867 - accuracy: 0.9768 - val_loss: 3.7523 - val_accuracy: 0.4156\n",
            "Epoch 32/40\n",
            "79/79 [==============================] - 1s 13ms/step - loss: 0.0723 - accuracy: 0.9821 - val_loss: 3.9264 - val_accuracy: 0.4114\n",
            "Epoch 33/40\n",
            "79/79 [==============================] - 2s 20ms/step - loss: 0.0896 - accuracy: 0.9750 - val_loss: 4.0393 - val_accuracy: 0.4102\n",
            "Epoch 34/40\n",
            "79/79 [==============================] - 2s 22ms/step - loss: 0.1166 - accuracy: 0.9638 - val_loss: 4.1506 - val_accuracy: 0.4050\n",
            "Epoch 35/40\n",
            "79/79 [==============================] - 1s 13ms/step - loss: 0.2360 - accuracy: 0.9248 - val_loss: 4.1818 - val_accuracy: 0.4012\n",
            "Epoch 36/40\n",
            "79/79 [==============================] - 1s 13ms/step - loss: 0.1671 - accuracy: 0.9436 - val_loss: 4.4432 - val_accuracy: 0.3963\n",
            "Epoch 37/40\n",
            "79/79 [==============================] - 2s 20ms/step - loss: 0.1834 - accuracy: 0.9387 - val_loss: 4.3602 - val_accuracy: 0.3929\n",
            "Epoch 38/40\n",
            "79/79 [==============================] - 2s 20ms/step - loss: 0.1221 - accuracy: 0.9618 - val_loss: 4.3519 - val_accuracy: 0.4104\n",
            "Epoch 39/40\n",
            "79/79 [==============================] - 1s 13ms/step - loss: 0.0845 - accuracy: 0.9736 - val_loss: 4.5891 - val_accuracy: 0.3978\n",
            "Epoch 40/40\n",
            "79/79 [==============================] - 1s 13ms/step - loss: 0.2442 - accuracy: 0.9211 - val_loss: 4.5672 - val_accuracy: 0.3968\n"
          ]
        }
      ]
    },
    {
      "cell_type": "markdown",
      "source": [
        "# 2.3. Exercise\n",
        "Based on the modifications above, and by any further modifications (e.g. more layers, less layers, more neurons/layer, etc.) to the model design, find a combination that is able to achieve **validation accuracy, that is higher than 53%**.\n"
      ],
      "metadata": {
        "id": "j1tGVPdD-pp3"
      }
    },
    {
      "cell_type": "code",
      "source": [
        "es = EarlyStopping(\n",
        "    monitor='val_accuracy',\n",
        "    patience=12,\n",
        "    verbose=1,\n",
        "    restore_best_weights=True\n",
        ")"
      ],
      "metadata": {
        "id": "5dBQxJHIHrbd"
      },
      "execution_count": 47,
      "outputs": []
    },
    {
      "cell_type": "code",
      "source": [
        "# # model definition \n",
        "model = Sequential()\n",
        "model.add(Dense(300, activation='relu', kernel_initializer=HeNormal(), input_shape=(flattened_dim,)))\n",
        "model.add(Dropout(0.27))\n",
        "model.add(Dense(250, activation='relu', kernel_initializer=HeNormal()))\n",
        "model.add(Dropout(0.27))\n",
        "model.add(Dense(nb_classes, activation='softmax'))\n",
        "# model.add(Dropout(0.28))\n",
        "# model.add(Dense(250, activation='tanh', kernel_initializer=HeNormal()))\n",
        "\n",
        "\n",
        "# loss function and optimizer\n",
        "model.compile(loss='categorical_crossentropy', optimizer='adam', metrics=['accuracy'])"
      ],
      "metadata": {
        "id": "PuxHOqLt-3Nd"
      },
      "execution_count": 83,
      "outputs": []
    },
    {
      "cell_type": "code",
      "source": [
        "# training\n",
        "network_history = model.fit(X_train, Y_train, \n",
        "                            validation_data=(X_valid,Y_valid),\n",
        "                            batch_size=128,                             \n",
        "                            epochs=100, \n",
        "                            verbose=1)"
      ],
      "metadata": {
        "id": "u8tFNCNVHyt9",
        "colab": {
          "base_uri": "https://localhost:8080/"
        },
        "outputId": "a96eeeb2-1751-425e-de35-b57cbb036f85"
      },
      "execution_count": 84,
      "outputs": [
        {
          "output_type": "stream",
          "name": "stdout",
          "text": [
            "Epoch 1/100\n",
            "79/79 [==============================] - 3s 26ms/step - loss: 2.5612 - accuracy: 0.2485 - val_loss: 1.8352 - val_accuracy: 0.3448\n",
            "Epoch 2/100\n",
            "79/79 [==============================] - 1s 14ms/step - loss: 1.9439 - accuracy: 0.3218 - val_loss: 1.7571 - val_accuracy: 0.3798\n",
            "Epoch 3/100\n",
            "79/79 [==============================] - 2s 22ms/step - loss: 1.8238 - accuracy: 0.3596 - val_loss: 1.7300 - val_accuracy: 0.3869\n",
            "Epoch 4/100\n",
            "79/79 [==============================] - 1s 15ms/step - loss: 1.7528 - accuracy: 0.3780 - val_loss: 1.6984 - val_accuracy: 0.4008\n",
            "Epoch 5/100\n",
            "79/79 [==============================] - 1s 15ms/step - loss: 1.6867 - accuracy: 0.4019 - val_loss: 1.6594 - val_accuracy: 0.4153\n",
            "Epoch 6/100\n",
            "79/79 [==============================] - 1s 15ms/step - loss: 1.6238 - accuracy: 0.4317 - val_loss: 1.6405 - val_accuracy: 0.4212\n",
            "Epoch 7/100\n",
            "79/79 [==============================] - 1s 14ms/step - loss: 1.5788 - accuracy: 0.4416 - val_loss: 1.6408 - val_accuracy: 0.4203\n",
            "Epoch 8/100\n",
            "79/79 [==============================] - 1s 14ms/step - loss: 1.5674 - accuracy: 0.4462 - val_loss: 1.6076 - val_accuracy: 0.4311\n",
            "Epoch 9/100\n",
            "79/79 [==============================] - 2s 20ms/step - loss: 1.5046 - accuracy: 0.4671 - val_loss: 1.6010 - val_accuracy: 0.4379\n",
            "Epoch 10/100\n",
            "79/79 [==============================] - 1s 14ms/step - loss: 1.4675 - accuracy: 0.4814 - val_loss: 1.5926 - val_accuracy: 0.4365\n",
            "Epoch 11/100\n",
            "79/79 [==============================] - 1s 14ms/step - loss: 1.4267 - accuracy: 0.4884 - val_loss: 1.5801 - val_accuracy: 0.4406\n",
            "Epoch 12/100\n",
            "79/79 [==============================] - 2s 20ms/step - loss: 1.4082 - accuracy: 0.5063 - val_loss: 1.5624 - val_accuracy: 0.4480\n",
            "Epoch 13/100\n",
            "79/79 [==============================] - 1s 17ms/step - loss: 1.3664 - accuracy: 0.5127 - val_loss: 1.5738 - val_accuracy: 0.4505\n",
            "Epoch 14/100\n",
            "79/79 [==============================] - 2s 20ms/step - loss: 1.3453 - accuracy: 0.5222 - val_loss: 1.5788 - val_accuracy: 0.4462\n",
            "Epoch 15/100\n",
            "79/79 [==============================] - 2s 20ms/step - loss: 1.3266 - accuracy: 0.5287 - val_loss: 1.5737 - val_accuracy: 0.4489\n",
            "Epoch 16/100\n",
            "79/79 [==============================] - 2s 20ms/step - loss: 1.2932 - accuracy: 0.5365 - val_loss: 1.5835 - val_accuracy: 0.4492\n",
            "Epoch 17/100\n",
            "79/79 [==============================] - 2s 20ms/step - loss: 1.2749 - accuracy: 0.5397 - val_loss: 1.5794 - val_accuracy: 0.4511\n",
            "Epoch 18/100\n",
            "79/79 [==============================] - 1s 14ms/step - loss: 1.2418 - accuracy: 0.5558 - val_loss: 1.5671 - val_accuracy: 0.4554\n",
            "Epoch 19/100\n",
            "79/79 [==============================] - 2s 20ms/step - loss: 1.2283 - accuracy: 0.5656 - val_loss: 1.5786 - val_accuracy: 0.4531\n",
            "Epoch 20/100\n",
            "79/79 [==============================] - 2s 20ms/step - loss: 1.2146 - accuracy: 0.5696 - val_loss: 1.5695 - val_accuracy: 0.4563\n",
            "Epoch 21/100\n",
            "79/79 [==============================] - 1s 17ms/step - loss: 1.1913 - accuracy: 0.5778 - val_loss: 1.5818 - val_accuracy: 0.4538\n",
            "Epoch 22/100\n",
            "79/79 [==============================] - 1s 14ms/step - loss: 1.1911 - accuracy: 0.5743 - val_loss: 1.5954 - val_accuracy: 0.4523\n",
            "Epoch 23/100\n",
            "79/79 [==============================] - 1s 14ms/step - loss: 1.1679 - accuracy: 0.5824 - val_loss: 1.5843 - val_accuracy: 0.4581\n",
            "Epoch 24/100\n",
            "79/79 [==============================] - 2s 20ms/step - loss: 1.1357 - accuracy: 0.5940 - val_loss: 1.5944 - val_accuracy: 0.4553\n",
            "Epoch 25/100\n",
            "79/79 [==============================] - 1s 14ms/step - loss: 1.1250 - accuracy: 0.5950 - val_loss: 1.6030 - val_accuracy: 0.4522\n",
            "Epoch 26/100\n",
            "79/79 [==============================] - 1s 14ms/step - loss: 1.0696 - accuracy: 0.6218 - val_loss: 1.6047 - val_accuracy: 0.4586\n",
            "Epoch 27/100\n",
            "79/79 [==============================] - 1s 14ms/step - loss: 1.0608 - accuracy: 0.6199 - val_loss: 1.6227 - val_accuracy: 0.4561\n",
            "Epoch 28/100\n",
            "79/79 [==============================] - 1s 14ms/step - loss: 1.0643 - accuracy: 0.6201 - val_loss: 1.6174 - val_accuracy: 0.4592\n",
            "Epoch 29/100\n",
            "79/79 [==============================] - 1s 13ms/step - loss: 1.0375 - accuracy: 0.6308 - val_loss: 1.6279 - val_accuracy: 0.4582\n",
            "Epoch 30/100\n",
            "79/79 [==============================] - 2s 20ms/step - loss: 1.0072 - accuracy: 0.6423 - val_loss: 1.6272 - val_accuracy: 0.4589\n",
            "Epoch 31/100\n",
            "79/79 [==============================] - 1s 17ms/step - loss: 1.0207 - accuracy: 0.6415 - val_loss: 1.6537 - val_accuracy: 0.4493\n",
            "Epoch 32/100\n",
            "79/79 [==============================] - 2s 20ms/step - loss: 0.9932 - accuracy: 0.6502 - val_loss: 1.6418 - val_accuracy: 0.4581\n",
            "Epoch 33/100\n",
            "79/79 [==============================] - 1s 14ms/step - loss: 0.9824 - accuracy: 0.6508 - val_loss: 1.6437 - val_accuracy: 0.4541\n",
            "Epoch 34/100\n",
            "79/79 [==============================] - 1s 13ms/step - loss: 0.9410 - accuracy: 0.6661 - val_loss: 1.6740 - val_accuracy: 0.4567\n",
            "Epoch 35/100\n",
            "79/79 [==============================] - 1s 13ms/step - loss: 0.9494 - accuracy: 0.6597 - val_loss: 1.6566 - val_accuracy: 0.4630\n",
            "Epoch 36/100\n",
            "79/79 [==============================] - 1s 14ms/step - loss: 0.9145 - accuracy: 0.6728 - val_loss: 1.6787 - val_accuracy: 0.4595\n",
            "Epoch 37/100\n",
            "79/79 [==============================] - 1s 14ms/step - loss: 0.9264 - accuracy: 0.6697 - val_loss: 1.6691 - val_accuracy: 0.4584\n",
            "Epoch 38/100\n",
            "79/79 [==============================] - 1s 14ms/step - loss: 0.8914 - accuracy: 0.6864 - val_loss: 1.6823 - val_accuracy: 0.4591\n",
            "Epoch 39/100\n",
            "79/79 [==============================] - 1s 14ms/step - loss: 0.9175 - accuracy: 0.6761 - val_loss: 1.7000 - val_accuracy: 0.4626\n",
            "Epoch 40/100\n",
            "79/79 [==============================] - 2s 20ms/step - loss: 0.8684 - accuracy: 0.6965 - val_loss: 1.7049 - val_accuracy: 0.4568\n",
            "Epoch 41/100\n",
            "79/79 [==============================] - 2s 22ms/step - loss: 0.8694 - accuracy: 0.6866 - val_loss: 1.6922 - val_accuracy: 0.4587\n",
            "Epoch 42/100\n",
            "79/79 [==============================] - 2s 20ms/step - loss: 0.8709 - accuracy: 0.6910 - val_loss: 1.7273 - val_accuracy: 0.4563\n",
            "Epoch 43/100\n",
            "79/79 [==============================] - 2s 20ms/step - loss: 0.8670 - accuracy: 0.6949 - val_loss: 1.7251 - val_accuracy: 0.4583\n",
            "Epoch 44/100\n",
            "79/79 [==============================] - 1s 14ms/step - loss: 0.8230 - accuracy: 0.7052 - val_loss: 1.7295 - val_accuracy: 0.4534\n",
            "Epoch 45/100\n",
            "79/79 [==============================] - 1s 13ms/step - loss: 0.8042 - accuracy: 0.7175 - val_loss: 1.7206 - val_accuracy: 0.4631\n",
            "Epoch 46/100\n",
            "79/79 [==============================] - 2s 20ms/step - loss: 0.8015 - accuracy: 0.7156 - val_loss: 1.7713 - val_accuracy: 0.4654\n",
            "Epoch 47/100\n",
            "79/79 [==============================] - 1s 14ms/step - loss: 0.7842 - accuracy: 0.7186 - val_loss: 1.7732 - val_accuracy: 0.4623\n",
            "Epoch 48/100\n",
            "79/79 [==============================] - 1s 13ms/step - loss: 0.7832 - accuracy: 0.7223 - val_loss: 1.7632 - val_accuracy: 0.4595\n",
            "Epoch 49/100\n",
            "79/79 [==============================] - 1s 19ms/step - loss: 0.7635 - accuracy: 0.7265 - val_loss: 1.7498 - val_accuracy: 0.4656\n",
            "Epoch 50/100\n",
            "79/79 [==============================] - 1s 19ms/step - loss: 0.7842 - accuracy: 0.7228 - val_loss: 1.7802 - val_accuracy: 0.4641\n",
            "Epoch 51/100\n",
            "79/79 [==============================] - 2s 20ms/step - loss: 0.7435 - accuracy: 0.7413 - val_loss: 1.7915 - val_accuracy: 0.4608\n",
            "Epoch 52/100\n",
            "79/79 [==============================] - 1s 14ms/step - loss: 0.7432 - accuracy: 0.7368 - val_loss: 1.7850 - val_accuracy: 0.4632\n",
            "Epoch 53/100\n",
            "79/79 [==============================] - 1s 14ms/step - loss: 0.7321 - accuracy: 0.7429 - val_loss: 1.8413 - val_accuracy: 0.4582\n",
            "Epoch 54/100\n",
            "79/79 [==============================] - 2s 20ms/step - loss: 0.7468 - accuracy: 0.7368 - val_loss: 1.8232 - val_accuracy: 0.4647\n",
            "Epoch 55/100\n",
            "79/79 [==============================] - 2s 20ms/step - loss: 0.7064 - accuracy: 0.7499 - val_loss: 1.8129 - val_accuracy: 0.4589\n",
            "Epoch 56/100\n",
            "79/79 [==============================] - 2s 20ms/step - loss: 0.7205 - accuracy: 0.7485 - val_loss: 1.8134 - val_accuracy: 0.4613\n",
            "Epoch 57/100\n",
            "79/79 [==============================] - 2s 20ms/step - loss: 0.6969 - accuracy: 0.7535 - val_loss: 1.8654 - val_accuracy: 0.4495\n",
            "Epoch 58/100\n",
            "79/79 [==============================] - 1s 17ms/step - loss: 0.6756 - accuracy: 0.7576 - val_loss: 1.8425 - val_accuracy: 0.4613\n",
            "Epoch 59/100\n",
            "79/79 [==============================] - 2s 20ms/step - loss: 0.6877 - accuracy: 0.7584 - val_loss: 1.8267 - val_accuracy: 0.4589\n",
            "Epoch 60/100\n",
            "79/79 [==============================] - 1s 14ms/step - loss: 0.6715 - accuracy: 0.7667 - val_loss: 1.8533 - val_accuracy: 0.4607\n",
            "Epoch 61/100\n",
            "79/79 [==============================] - 2s 20ms/step - loss: 0.6936 - accuracy: 0.7549 - val_loss: 1.8617 - val_accuracy: 0.4643\n",
            "Epoch 62/100\n",
            "79/79 [==============================] - 1s 14ms/step - loss: 0.6374 - accuracy: 0.7731 - val_loss: 1.9069 - val_accuracy: 0.4589\n",
            "Epoch 63/100\n",
            "79/79 [==============================] - 2s 20ms/step - loss: 0.6388 - accuracy: 0.7830 - val_loss: 1.9114 - val_accuracy: 0.4674\n",
            "Epoch 64/100\n",
            "79/79 [==============================] - 2s 20ms/step - loss: 0.6339 - accuracy: 0.7748 - val_loss: 1.9247 - val_accuracy: 0.4617\n",
            "Epoch 65/100\n",
            "79/79 [==============================] - 2s 20ms/step - loss: 0.7062 - accuracy: 0.7550 - val_loss: 1.9095 - val_accuracy: 0.4597\n",
            "Epoch 66/100\n",
            "79/79 [==============================] - 1s 18ms/step - loss: 0.6306 - accuracy: 0.7746 - val_loss: 1.9299 - val_accuracy: 0.4638\n",
            "Epoch 67/100\n",
            "79/79 [==============================] - 2s 21ms/step - loss: 0.6190 - accuracy: 0.7827 - val_loss: 1.9394 - val_accuracy: 0.4622\n",
            "Epoch 68/100\n",
            "79/79 [==============================] - 2s 20ms/step - loss: 0.6014 - accuracy: 0.7897 - val_loss: 1.9424 - val_accuracy: 0.4615\n",
            "Epoch 69/100\n",
            "79/79 [==============================] - 2s 20ms/step - loss: 0.6212 - accuracy: 0.7831 - val_loss: 1.9277 - val_accuracy: 0.4592\n",
            "Epoch 70/100\n",
            "79/79 [==============================] - 1s 14ms/step - loss: 0.5990 - accuracy: 0.7918 - val_loss: 2.0497 - val_accuracy: 0.4591\n",
            "Epoch 71/100\n",
            "79/79 [==============================] - 1s 14ms/step - loss: 0.6209 - accuracy: 0.7886 - val_loss: 1.9490 - val_accuracy: 0.4605\n",
            "Epoch 72/100\n",
            "79/79 [==============================] - 1s 14ms/step - loss: 0.6361 - accuracy: 0.7748 - val_loss: 1.9892 - val_accuracy: 0.4620\n",
            "Epoch 73/100\n",
            "79/79 [==============================] - 2s 20ms/step - loss: 0.6206 - accuracy: 0.7885 - val_loss: 1.9237 - val_accuracy: 0.4586\n",
            "Epoch 74/100\n",
            "79/79 [==============================] - 1s 16ms/step - loss: 0.5873 - accuracy: 0.7930 - val_loss: 1.9610 - val_accuracy: 0.4599\n",
            "Epoch 75/100\n",
            "79/79 [==============================] - 1s 17ms/step - loss: 0.5744 - accuracy: 0.7994 - val_loss: 1.9776 - val_accuracy: 0.4643\n",
            "Epoch 76/100\n",
            "79/79 [==============================] - 1s 14ms/step - loss: 0.5682 - accuracy: 0.8028 - val_loss: 2.0140 - val_accuracy: 0.4597\n",
            "Epoch 77/100\n",
            "79/79 [==============================] - 2s 20ms/step - loss: 0.5645 - accuracy: 0.8039 - val_loss: 2.0189 - val_accuracy: 0.4590\n",
            "Epoch 78/100\n",
            "79/79 [==============================] - 2s 20ms/step - loss: 0.5552 - accuracy: 0.8075 - val_loss: 1.9994 - val_accuracy: 0.4613\n",
            "Epoch 79/100\n",
            "79/79 [==============================] - 2s 20ms/step - loss: 0.5394 - accuracy: 0.8189 - val_loss: 2.0117 - val_accuracy: 0.4604\n",
            "Epoch 80/100\n",
            "79/79 [==============================] - 1s 14ms/step - loss: 0.5723 - accuracy: 0.8015 - val_loss: 2.0411 - val_accuracy: 0.4637\n",
            "Epoch 81/100\n",
            "79/79 [==============================] - 2s 20ms/step - loss: 0.5558 - accuracy: 0.8041 - val_loss: 2.0532 - val_accuracy: 0.4619\n",
            "Epoch 82/100\n",
            "79/79 [==============================] - 2s 21ms/step - loss: 0.5735 - accuracy: 0.8024 - val_loss: 2.0049 - val_accuracy: 0.4546\n",
            "Epoch 83/100\n",
            "79/79 [==============================] - 1s 18ms/step - loss: 0.5344 - accuracy: 0.8118 - val_loss: 2.0441 - val_accuracy: 0.4597\n",
            "Epoch 84/100\n",
            "79/79 [==============================] - 2s 21ms/step - loss: 0.5282 - accuracy: 0.8125 - val_loss: 2.0446 - val_accuracy: 0.4615\n",
            "Epoch 85/100\n",
            "79/79 [==============================] - 2s 20ms/step - loss: 0.5301 - accuracy: 0.8192 - val_loss: 2.0067 - val_accuracy: 0.4630\n",
            "Epoch 86/100\n",
            "79/79 [==============================] - 2s 20ms/step - loss: 0.4931 - accuracy: 0.8307 - val_loss: 2.1201 - val_accuracy: 0.4590\n",
            "Epoch 87/100\n",
            "79/79 [==============================] - 1s 14ms/step - loss: 0.5465 - accuracy: 0.8125 - val_loss: 2.0700 - val_accuracy: 0.4629\n",
            "Epoch 88/100\n",
            "79/79 [==============================] - 1s 14ms/step - loss: 0.5076 - accuracy: 0.8213 - val_loss: 2.0611 - val_accuracy: 0.4620\n",
            "Epoch 89/100\n",
            "79/79 [==============================] - 1s 14ms/step - loss: 0.5141 - accuracy: 0.8278 - val_loss: 2.0891 - val_accuracy: 0.4601\n",
            "Epoch 90/100\n",
            "79/79 [==============================] - 2s 20ms/step - loss: 0.5143 - accuracy: 0.8185 - val_loss: 2.1456 - val_accuracy: 0.4609\n",
            "Epoch 91/100\n",
            "79/79 [==============================] - 2s 20ms/step - loss: 0.5117 - accuracy: 0.8201 - val_loss: 2.1028 - val_accuracy: 0.4636\n",
            "Epoch 92/100\n",
            "79/79 [==============================] - 1s 17ms/step - loss: 0.5169 - accuracy: 0.8215 - val_loss: 2.0748 - val_accuracy: 0.4610\n",
            "Epoch 93/100\n",
            "79/79 [==============================] - 2s 20ms/step - loss: 0.5119 - accuracy: 0.8214 - val_loss: 2.1113 - val_accuracy: 0.4570\n",
            "Epoch 94/100\n",
            "79/79 [==============================] - 1s 14ms/step - loss: 0.4966 - accuracy: 0.8290 - val_loss: 2.1084 - val_accuracy: 0.4566\n",
            "Epoch 95/100\n",
            "79/79 [==============================] - 2s 21ms/step - loss: 0.4841 - accuracy: 0.8334 - val_loss: 2.1354 - val_accuracy: 0.4558\n",
            "Epoch 96/100\n",
            "79/79 [==============================] - 2s 20ms/step - loss: 0.4806 - accuracy: 0.8306 - val_loss: 2.1149 - val_accuracy: 0.4524\n",
            "Epoch 97/100\n",
            "79/79 [==============================] - 2s 20ms/step - loss: 0.5074 - accuracy: 0.8298 - val_loss: 2.1316 - val_accuracy: 0.4627\n",
            "Epoch 98/100\n",
            "79/79 [==============================] - 2s 21ms/step - loss: 0.4848 - accuracy: 0.8330 - val_loss: 2.1299 - val_accuracy: 0.4632\n",
            "Epoch 99/100\n",
            "79/79 [==============================] - 2s 20ms/step - loss: 0.4549 - accuracy: 0.8399 - val_loss: 2.1477 - val_accuracy: 0.4632\n",
            "Epoch 100/100\n",
            "79/79 [==============================] - 1s 17ms/step - loss: 0.4529 - accuracy: 0.8422 - val_loss: 2.1740 - val_accuracy: 0.4619\n"
          ]
        }
      ]
    },
    {
      "cell_type": "markdown",
      "source": [
        "# 3. Evaluation on test data and inference\n",
        "At this point, we will perform a basic evaluation and inference. With the model.evaluate function, the same metrics are calculated, that were used during training:"
      ],
      "metadata": {
        "id": "2FtKp-a2-A9m"
      }
    },
    {
      "cell_type": "code",
      "source": [
        "print(model.evaluate(X_test, Y_test))"
      ],
      "metadata": {
        "id": "I3_9wgDREUna",
        "colab": {
          "base_uri": "https://localhost:8080/"
        },
        "outputId": "c47ccaca-81d2-4d8d-92d4-65521988946f"
      },
      "execution_count": 85,
      "outputs": [
        {
          "output_type": "stream",
          "name": "stdout",
          "text": [
            "313/313 [==============================] - 1s 2ms/step - loss: 2.1227 - accuracy: 0.4698\n",
            "[2.1227200031280518, 0.4697999954223633]\n"
          ]
        }
      ]
    },
    {
      "cell_type": "markdown",
      "source": [
        "we would like to see similar values, as in the validation set. If those are close to each other, then the generalization ability of the model is good (in case of an independent test-set)."
      ],
      "metadata": {
        "id": "ECHguBFtGL7f"
      }
    },
    {
      "cell_type": "markdown",
      "source": [
        "## 3.1. Exercise\n",
        "Predict the class of the first 10 elements in the test set, and compare the predicted values with the actual, target values in the test set. Hints:\n",
        "* you can use [model.predict](https://www.activestate.com/resources/quick-reads/how-to-use-a-model-to-do-predictions-with-keras/) for prediction\n",
        "* from the output you can select the largest value with the [argmax() function of Numpy](https://stackoverflow.com/questions/62358642/convert-one-hot-encoding-back-to-number-label). As there are multiple values, you have to call it with axis=1 parameter.\n",
        "* it is enought to compare the predictions and the targets by printing the values out and inspecting them."
      ],
      "metadata": {
        "id": "0Io4zYJeHjz6"
      }
    },
    {
      "cell_type": "code",
      "source": [
        "preds = model.predict(X_test[:100])\n",
        "preds_dense = np.argmax(preds,axis=1)"
      ],
      "metadata": {
        "id": "XEEyU7exILqF",
        "colab": {
          "base_uri": "https://localhost:8080/"
        },
        "outputId": "2a32d463-13b5-46a1-9199-510d678d5949"
      },
      "execution_count": 86,
      "outputs": [
        {
          "output_type": "stream",
          "name": "stdout",
          "text": [
            "4/4 [==============================] - 0s 3ms/step\n"
          ]
        }
      ]
    },
    {
      "cell_type": "markdown",
      "source": [
        "Before comparision, you have to convert back the one-hot encoded target values the same way, as you converted the output of the neural network to class values with argmax() function."
      ],
      "metadata": {
        "id": "seZTEFI-I5cZ"
      }
    },
    {
      "cell_type": "code",
      "source": [
        "print(\"Target labels:\", np.argmax(Y_test[:10],axis=1))\n",
        "print(\"Predicted labels:\", preds_dense)"
      ],
      "metadata": {
        "id": "PHLvoMuIIkJ6",
        "colab": {
          "base_uri": "https://localhost:8080/"
        },
        "outputId": "ed0ba6a7-9a13-465b-95ba-5a39b11b67a5"
      },
      "execution_count": 87,
      "outputs": [
        {
          "output_type": "stream",
          "name": "stdout",
          "text": [
            "Target labels: [3 8 8 0 6 6 1 6 3 1]\n",
            "Predicted labels: [2 8 8 0 4 3 6 6 4 1 0 1 5 7 9 8 5 4 8 7 4 0 0 9 4 6 6 9 1 6 3 4 4 5 9 9 5\n",
            " 9 1 5 4 6 5 6 0 9 2 3 7 6 9 8 6 5 8 8 4 1 5 2 7 5 4 5 6 5 1 2 3 9 4 6 8 8\n",
            " 0 2 9 3 3 0 8 9 1 3 0 7 4 0 8 8 0 4 8 6 4 4 2 0 2 9]\n"
          ]
        }
      ]
    }
  ]
}